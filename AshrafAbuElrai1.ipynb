{
 "cells": [
  {
   "cell_type": "code",
   "execution_count": 118,
   "id": "7df82056-b1b9-4a08-b3aa-53733a0d8b32",
   "metadata": {},
   "outputs": [],
   "source": [
    "import pandas as pd\n",
    "import numpy as np\n",
    "import seaborn as sns\n",
    "import matplotlib.pyplot as plt "
   ]
  },
  {
   "cell_type": "code",
   "execution_count": 164,
   "id": "13c2311e-df65-437f-b74f-7a03d947752f",
   "metadata": {},
   "outputs": [
    {
     "name": "stdout",
     "output_type": "stream",
     "text": [
      "   day  attendance\n",
      "0    0          58\n",
      "1    1          49\n",
      "2    2          48\n",
      "3    3          47\n",
      "4    4          50\n",
      "(300, 2)\n"
     ]
    }
   ],
   "source": [
    "df=pd.DataFrame(np.random.normal(50,10,300),columns=['attendance']).astype(int)\n",
    "df.index.name='day'\n",
    "df=df.reset_index()\n",
    "print(df.head())\n",
    "print(df.shape)"
   ]
  },
  {
   "cell_type": "code",
   "execution_count": 21,
   "id": "46e48e20-67d3-4a25-92d7-b8def3eb15bf",
   "metadata": {},
   "outputs": [
    {
     "data": {
      "text/plain": [
       "<Axes: >"
      ]
     },
     "execution_count": 21,
     "metadata": {},
     "output_type": "execute_result"
    },
    {
     "data": {
      "image/png": "[encoded data removed]",
      "text/plain": [
       "<Figure size 640x480 with 1 Axes>"
      ]
     },
     "metadata": {},
     "output_type": "display_data"
    }
   ],
   "source": [
    "df.attendance.hist()"
   ]
  },
  {
   "cell_type": "code",
   "execution_count": 176,
   "id": "df4ed444-6cc1-4bd5-a222-3210caa6e05c",
   "metadata": {},
   "outputs": [
    {
     "data": {
      "text/html": [
       "<div>\n",
       "<style scoped>\n",
       "    .dataframe tbody tr th:only-of-type {\n",
       "        vertical-align: middle;\n",
       "    }\n",
       "\n",
       "    .dataframe tbody tr th {\n",
       "        vertical-align: top;\n",
       "    }\n",
       "\n",
       "    .dataframe thead th {\n",
       "        text-align: right;\n",
       "    }\n",
       "</style>\n",
       "<table border=\"1\" class=\"dataframe\">\n",
       "  <thead>\n",
       "    <tr style=\"text-align: right;\">\n",
       "      <th></th>\n",
       "      <th>day</th>\n",
       "      <th>attendance</th>\n",
       "      <th>numric_labels</th>\n",
       "      <th>three_bins</th>\n",
       "    </tr>\n",
       "  </thead>\n",
       "  <tbody>\n",
       "    <tr>\n",
       "      <th>0</th>\n",
       "      <td>0</td>\n",
       "      <td>58</td>\n",
       "      <td>20</td>\n",
       "      <td>medium</td>\n",
       "    </tr>\n",
       "    <tr>\n",
       "      <th>1</th>\n",
       "      <td>1</td>\n",
       "      <td>49</td>\n",
       "      <td>20</td>\n",
       "      <td>medium</td>\n",
       "    </tr>\n",
       "    <tr>\n",
       "      <th>2</th>\n",
       "      <td>2</td>\n",
       "      <td>48</td>\n",
       "      <td>20</td>\n",
       "      <td>medium</td>\n",
       "    </tr>\n",
       "    <tr>\n",
       "      <th>3</th>\n",
       "      <td>3</td>\n",
       "      <td>47</td>\n",
       "      <td>20</td>\n",
       "      <td>medium</td>\n",
       "    </tr>\n",
       "    <tr>\n",
       "      <th>4</th>\n",
       "      <td>4</td>\n",
       "      <td>50</td>\n",
       "      <td>20</td>\n",
       "      <td>medium</td>\n",
       "    </tr>\n",
       "  </tbody>\n",
       "</table>\n",
       "</div>"
      ],
      "text/plain": [
       "   day  attendance numric_labels three_bins\n",
       "0    0          58            20     medium\n",
       "1    1          49            20     medium\n",
       "2    2          48            20     medium\n",
       "3    3          47            20     medium\n",
       "4    4          50            20     medium"
      ]
     },
     "execution_count": 176,
     "metadata": {},
     "output_type": "execute_result"
    }
   ],
   "source": [
    "bins=3\n",
    "labels=['low','medium','hight']\n",
    "df['three_bins']=pd.cut(df.attendance,bins=bins,labels=labels)\n",
    "df.head()"
   ]
  },
  {
   "cell_type": "code",
   "execution_count": 178,
   "id": "48e18037-7c69-4002-8459-72b0d971fba2",
   "metadata": {},
   "outputs": [
    {
     "data": {
      "text/html": [
       "<div>\n",
       "<style scoped>\n",
       "    .dataframe tbody tr th:only-of-type {\n",
       "        vertical-align: middle;\n",
       "    }\n",
       "\n",
       "    .dataframe tbody tr th {\n",
       "        vertical-align: top;\n",
       "    }\n",
       "\n",
       "    .dataframe thead th {\n",
       "        text-align: right;\n",
       "    }\n",
       "</style>\n",
       "<table border=\"1\" class=\"dataframe\">\n",
       "  <thead>\n",
       "    <tr style=\"text-align: right;\">\n",
       "      <th></th>\n",
       "      <th>day</th>\n",
       "      <th>attendance</th>\n",
       "      <th>numric_labels</th>\n",
       "      <th>three_bins</th>\n",
       "      <th>q_three_bins</th>\n",
       "    </tr>\n",
       "  </thead>\n",
       "  <tbody>\n",
       "    <tr>\n",
       "      <th>0</th>\n",
       "      <td>0</td>\n",
       "      <td>58</td>\n",
       "      <td>20</td>\n",
       "      <td>medium</td>\n",
       "      <td>hight</td>\n",
       "    </tr>\n",
       "    <tr>\n",
       "      <th>1</th>\n",
       "      <td>1</td>\n",
       "      <td>49</td>\n",
       "      <td>20</td>\n",
       "      <td>medium</td>\n",
       "      <td>medium</td>\n",
       "    </tr>\n",
       "    <tr>\n",
       "      <th>2</th>\n",
       "      <td>2</td>\n",
       "      <td>48</td>\n",
       "      <td>20</td>\n",
       "      <td>medium</td>\n",
       "      <td>medium</td>\n",
       "    </tr>\n",
       "    <tr>\n",
       "      <th>3</th>\n",
       "      <td>3</td>\n",
       "      <td>47</td>\n",
       "      <td>20</td>\n",
       "      <td>medium</td>\n",
       "      <td>medium</td>\n",
       "    </tr>\n",
       "    <tr>\n",
       "      <th>4</th>\n",
       "      <td>4</td>\n",
       "      <td>50</td>\n",
       "      <td>20</td>\n",
       "      <td>medium</td>\n",
       "      <td>medium</td>\n",
       "    </tr>\n",
       "  </tbody>\n",
       "</table>\n",
       "</div>"
      ],
      "text/plain": [
       "   day  attendance numric_labels three_bins q_three_bins\n",
       "0    0          58            20     medium        hight\n",
       "1    1          49            20     medium       medium\n",
       "2    2          48            20     medium       medium\n",
       "3    3          47            20     medium       medium\n",
       "4    4          50            20     medium       medium"
      ]
     },
     "execution_count": 178,
     "metadata": {},
     "output_type": "execute_result"
    }
   ],
   "source": [
    "qbins=3\n",
    "qlabels=['low','medium','hight']\n",
    "df['q_three_bins']=pd.qcut(df.attendance,q=qbins,labels=qlabels)\n",
    "df.head()"
   ]
  },
  {
   "cell_type": "code",
   "execution_count": 140,
   "id": "a8b86735-8d0c-4868-b232-b2ba02cb4839",
   "metadata": {},
   "outputs": [
    {
     "data": {
      "text/plain": [
       "three_bins\n",
       "medium    178\n",
       "hight      86\n",
       "low        36\n",
       "Name: count, dtype: int64"
      ]
     },
     "execution_count": 140,
     "metadata": {},
     "output_type": "execute_result"
    }
   ],
   "source": [
    "df.three_bins.value_counts()"
   ]
  },
  {
   "cell_type": "code",
   "execution_count": 142,
   "id": "1d29a8f8-2095-428a-9c7c-9e85b63f0e90",
   "metadata": {},
   "outputs": [
    {
     "data": {
      "text/plain": [
       "q_three_bins\n",
       "low       105\n",
       "medium     98\n",
       "hight      97\n",
       "Name: count, dtype: int64"
      ]
     },
     "execution_count": 142,
     "metadata": {},
     "output_type": "execute_result"
    }
   ],
   "source": [
    "df.q_three_bins.value_counts()"
   ]
  },
  {
   "cell_type": "code",
   "execution_count": 168,
   "id": "a4b8e00c-9cf4-4d79-8536-fc0a1f519186",
   "metadata": {},
   "outputs": [
    {
     "name": "stdout",
     "output_type": "stream",
     "text": [
      "Binned data: 0    (45.667, 62.333]\n",
      "1    (45.667, 62.333]\n",
      "2    (45.667, 62.333]\n",
      "3    (45.667, 62.333]\n",
      "4    (45.667, 62.333]\n",
      "Name: attendance, dtype: category\n",
      "Categories (3, interval[float64, right]): [(28.95, 45.667] < (45.667, 62.333] < (62.333, 79.0]]\n",
      "Bin edges: [28.95       45.66666667 62.33333333 79.        ]\n"
     ]
    }
   ],
   "source": [
    "binned_data, bin_edges = pd.cut(df.attendance, bins=bins, retbins=True)\n",
    "print(\"Binned data:\", binned_data.head())\n",
    "print(\"Bin edges:\", bin_edges)"
   ]
  },
  {
   "cell_type": "code",
   "execution_count": 170,
   "id": "033eda30-2e89-4382-bbe6-cd8b14db50e2",
   "metadata": {},
   "outputs": [
    {
     "name": "stdout",
     "output_type": "stream",
     "text": [
      "Binned data: 0    (53.0, 79.0]\n",
      "1    (45.0, 53.0]\n",
      "2    (45.0, 53.0]\n",
      "3    (45.0, 53.0]\n",
      "4    (45.0, 53.0]\n",
      "Name: attendance, dtype: category\n",
      "Categories (3, interval[float64, right]): [(28.999, 45.0] < (45.0, 53.0] < (53.0, 79.0]]\n",
      "Bin edges: [29. 45. 53. 79.]\n"
     ]
    }
   ],
   "source": [
    "binned_data, bin_edges = pd.qcut(df.attendance, q=qbins, retbins=True)\n",
    "print(\"Binned data:\", binned_data.head())\n",
    "print(\"Bin edges:\", bin_edges)\n"
   ]
  },
  {
   "cell_type": "code",
   "execution_count": 172,
   "id": "9ae0fe80-f1d4-404a-9cc6-6e3762533ec9",
   "metadata": {},
   "outputs": [
    {
     "name": "stdout",
     "output_type": "stream",
     "text": [
      "Binned data: 0    [45.667, 62.333)\n",
      "1    [45.667, 62.333)\n",
      "2    [45.667, 62.333)\n",
      "3    [45.667, 62.333)\n",
      "4    [45.667, 62.333)\n",
      "Name: attendance, dtype: category\n",
      "Categories (3, interval[float64, left]): [[29.0, 45.667) < [45.667, 62.333) < [62.333, 79.05)]\n"
     ]
    }
   ],
   "source": [
    "binned_data = pd.cut(df.attendance, bins=bins, right=False)\n",
    "print(\"Binned data:\", binned_data.head())"
   ]
  },
  {
   "cell_type": "code",
   "execution_count": 180,
   "id": "6d6050a9-1024-440a-9976-a306e881f3aa",
   "metadata": {},
   "outputs": [
    {
     "name": "stdout",
     "output_type": "stream",
     "text": [
      "   day  attendance numric_labels three_bins q_three_bins\n",
      "0    0          58            20     medium        hight\n",
      "1    1          49            20     medium       medium\n",
      "2    2          48            20     medium       medium\n",
      "3    3          47            20     medium       medium\n",
      "4    4          50            20     medium       medium\n"
     ]
    }
   ],
   "source": [
    "labels=[10,20,30]\n",
    "df['numric_labels'] = pd.cut(df.attendance, bins=bins, labels=labels)\n",
    "print(df.head())"
   ]
  },
  {
   "cell_type": "code",
   "execution_count": null,
   "id": "20b125ed-d857-47cf-bd3c-d60a801f18ab",
   "metadata": {},
   "outputs": [],
   "source": []
  }
 ],
 "metadata": {
  "firstTimeUsingHintbot": true,
  "kernelspec": {
   "display_name": "Python 3 (ipykernel)",
   "language": "python",
   "name": "python3"
  },
  "language_info": {
   "codemirror_mode": {
    "name": "ipython",
    "version": 3
   },
   "file_extension": ".py",
   "mimetype": "text/x-python",
   "name": "python",
   "nbconvert_exporter": "python",
   "pygments_lexer": "ipython3",
   "version": "3.12.4"
  }
 },
 "nbformat": 4,
 "nbformat_minor": 5
}
